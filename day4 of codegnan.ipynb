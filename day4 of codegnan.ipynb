{
 "cells": [
  {
   "cell_type": "code",
   "execution_count": 3,
   "id": "1290557f-dd8a-447f-9c97-cd227fb280c7",
   "metadata": {},
   "outputs": [
    {
     "name": "stdout",
     "output_type": "stream",
     "text": [
      "india\n",
      "hi students\n"
     ]
    }
   ],
   "source": [
    "num=99\n",
    "if (99>0):\n",
    "    print(\"india\")\n",
    "print (\"hi students\")"
   ]
  },
  {
   "cell_type": "code",
   "execution_count": 11,
   "id": "0a20d1a7-c014-4c06-b15e-09d8d5840ba1",
   "metadata": {},
   "outputs": [
    {
     "name": "stdin",
     "output_type": "stream",
     "text": [
      "enter the age 21\n"
     ]
    },
    {
     "name": "stdout",
     "output_type": "stream",
     "text": [
      "eligible\n"
     ]
    }
   ],
   "source": [
    "#write a program to check whether the person is eligible to vote by using if condition \n",
    "person=int(input(\"enter the age\"))\n",
    "limit=18\n",
    "if person>=limit:\n",
    "    print(\"eligible\")\n"
   ]
  },
  {
   "cell_type": "code",
   "execution_count": 17,
   "id": "728556cf-517a-4820-9785-df1b246045ea",
   "metadata": {},
   "outputs": [
    {
     "name": "stdin",
     "output_type": "stream",
     "text": [
      "enter the age 17\n"
     ]
    },
    {
     "name": "stdout",
     "output_type": "stream",
     "text": [
      "not eligible\n"
     ]
    }
   ],
   "source": [
    "person=int(input(\"enter the age\"))\n",
    "limit=18\n",
    "if person>=limit:\n",
    "    print(\"eligible\")\n",
    "else:\n",
    "    print(\"not eligible\")\n"
   ]
  },
  {
   "cell_type": "code",
   "execution_count": 19,
   "id": "1498827b-f670-420b-94be-1657b01f5a45",
   "metadata": {},
   "outputs": [
    {
     "name": "stdin",
     "output_type": "stream",
     "text": [
      "enter a number 66\n"
     ]
    },
    {
     "name": "stdout",
     "output_type": "stream",
     "text": [
      "66 is a even number\n",
      "after condition exit\n"
     ]
    }
   ],
   "source": [
    "#print whether the condition is even and skip the condition if not \n",
    "num=int(input(\"enter a number\"))\n",
    "if num%2==0: print(num,\"is a even number\")\n",
    "print(\"after condition exit\")\n"
   ]
  },
  {
   "cell_type": "code",
   "execution_count": 35,
   "id": "890e2df1-c476-42a0-a5dc-8e7385eeff3e",
   "metadata": {},
   "outputs": [
    {
     "name": "stdin",
     "output_type": "stream",
     "text": [
      "press any key: l\n"
     ]
    },
    {
     "name": "stdout",
     "output_type": "stream",
     "text": [
      "the user has entered alphabet\n",
      "the user ha entered lower\n"
     ]
    }
   ],
   "source": [
    "#program to print alphabet, num,space\n",
    "char=input(\"press any key:\")\n",
    "if char.isalpha():\n",
    "    print(\"the user has entered alphabet\")\n",
    "if char.isdigit():\n",
    "    print(\"the user has entered digit\")\n",
    "if char.isspace():\n",
    "    print(\"the iser has entered space\")\n",
    "if char.islower():\n",
    "    print(\"the user ha entered lower\")\n",
    "          "
   ]
  },
  {
   "cell_type": "code",
   "execution_count": 41,
   "id": "d55d5fae-9842-4103-8717-69c31add07ca",
   "metadata": {},
   "outputs": [
    {
     "name": "stdin",
     "output_type": "stream",
     "text": [
      "enter age 4\n"
     ]
    },
    {
     "name": "stdout",
     "output_type": "stream",
     "text": [
      " not eligible\n"
     ]
    }
   ],
   "source": [
    "#if and else program \n",
    "person =int(input(\"enter age\"))\n",
    "limit=18\n",
    "if person>=18:\n",
    "    print(\"eligible\")\n",
    "else:    \n",
    "    print(\" not eligible\")"
   ]
  },
  {
   "cell_type": "code",
   "execution_count": 49,
   "id": "7f019a5b-4d31-43c7-8569-5c80ff4ca410",
   "metadata": {},
   "outputs": [
    {
     "name": "stdin",
     "output_type": "stream",
     "text": [
      "enter number of a -4\n",
      "enter number of b -99\n"
     ]
    },
    {
     "name": "stdout",
     "output_type": "stream",
     "text": [
      "small value is -99\n"
     ]
    }
   ],
   "source": [
    "#write a program to find the smallest of 2 numbers by using if else condition \n",
    "a=int(input(\"enter number of a\"))\n",
    "b=int(input(\"enter number of b\"))\n",
    "if a<b:\n",
    "      small=a\n",
    "else:\n",
    "      small=b\n",
    "print(\"small value is\",small)\n",
    "\n",
    "\n"
   ]
  },
  {
   "cell_type": "code",
   "execution_count": 57,
   "id": "1fdc9477-0fc0-40dd-bb16-d333f5adb654",
   "metadata": {},
   "outputs": [
    {
     "name": "stdin",
     "output_type": "stream",
     "text": [
      "enter any character from a-z k\n"
     ]
    },
    {
     "name": "stdout",
     "output_type": "stream",
     "text": [
      "convertede case of input char: K\n"
     ]
    }
   ],
   "source": [
    "'''write a prgm to enter a character atoz, if entered character is lower then cinvert into upper and viceversa\n",
    "input=a\n",
    "output=A\n",
    "'''\n",
    "ch=input(\"enter any character from a-z\")\n",
    "if ch>'a' and ch<='z':\n",
    "    ch=ch.upper()\n",
    "    print(\"convertede case of input char:\",ch)\n",
    "else:\n",
    "    ch=ch.lower()\n",
    "    print(\"converted case of input char:\",ch)\n",
    "    \\\n",
    "\n"
   ]
  },
  {
   "cell_type": "code",
   "execution_count": 64,
   "id": "7a847b0a-5d2a-449f-92cd-8c28e0ea9424",
   "metadata": {},
   "outputs": [
    {
     "name": "stdin",
     "output_type": "stream",
     "text": [
      "enter the year: 2003\n"
     ]
    },
    {
     "name": "stdout",
     "output_type": "stream",
     "text": [
      "not a leap year\n"
     ]
    }
   ],
   "source": [
    "'''check whether the give inputv  isa leap year for 4 years and centurains by if else'''\n",
    "num=int(input(\"enter the year:\"))\n",
    "if num%4==0 or num%100==0 or num%400==0:\n",
    "    print(\"it is a leap year\")\n",
    "else:\n",
    "    print(\"not a leap year\")\n",
    "        \n",
    "\n",
    "\n",
    "\n",
    "\n",
    "\n",
    "\n"
   ]
  },
  {
   "cell_type": "code",
   "execution_count": 68,
   "id": "4cc3366a-ab53-4e0c-8472-fd8844ac3253",
   "metadata": {},
   "outputs": [
    {
     "name": "stdin",
     "output_type": "stream",
     "text": [
      "enter the number: -4\n"
     ]
    },
    {
     "name": "stdout",
     "output_type": "stream",
     "text": [
      "negative number\n"
     ]
    }
   ],
   "source": [
    "'''write a program to check whether the given number is a positive, negative or zero '''\n",
    "num=int(input(\"enter the number:\"))\n",
    "if num==0:\n",
    "    print(\"zero entered\")\n",
    "if num>0:\n",
    "    print(\"positive number\")\n",
    "else:\n",
    "    print(\"negative number\")"
   ]
  },
  {
   "cell_type": "code",
   "execution_count": 107,
   "id": "bca48120-6274-4e4e-847e-75ecc6fdef97",
   "metadata": {},
   "outputs": [
    {
     "ename": "KeyboardInterrupt",
     "evalue": "Interrupted by user",
     "output_type": "error",
     "traceback": [
      "\u001b[1;31m---------------------------------------------------------------------------\u001b[0m",
      "\u001b[1;31mKeyboardInterrupt\u001b[0m                         Traceback (most recent call last)",
      "Cell \u001b[1;32mIn[107], line 2\u001b[0m\n\u001b[0;32m      1\u001b[0m \u001b[38;5;124;03m'''write a program to check whether the given number is a positive, negative or zero '''\u001b[39;00m\n\u001b[1;32m----> 2\u001b[0m num\u001b[38;5;241m=\u001b[39m\u001b[38;5;28mint\u001b[39m(\u001b[38;5;28minput\u001b[39m(\u001b[38;5;124m\"\u001b[39m\u001b[38;5;124menter the number:\u001b[39m\u001b[38;5;124m\"\u001b[39m))\n\u001b[0;32m      3\u001b[0m \u001b[38;5;28;01mif\u001b[39;00m num\u001b[38;5;241m==\u001b[39m\u001b[38;5;241m0\u001b[39m:\n\u001b[0;32m      4\u001b[0m     \u001b[38;5;28mprint\u001b[39m(\u001b[38;5;124m\"\u001b[39m\u001b[38;5;124mzero entered\u001b[39m\u001b[38;5;124m\"\u001b[39m)\n",
      "File \u001b[1;32mC:\\ProgramData\\anaconda3\\Lib\\site-packages\\ipykernel\\kernelbase.py:1262\u001b[0m, in \u001b[0;36mKernel.raw_input\u001b[1;34m(self, prompt)\u001b[0m\n\u001b[0;32m   1260\u001b[0m     msg \u001b[38;5;241m=\u001b[39m \u001b[38;5;124m\"\u001b[39m\u001b[38;5;124mraw_input was called, but this frontend does not support input requests.\u001b[39m\u001b[38;5;124m\"\u001b[39m\n\u001b[0;32m   1261\u001b[0m     \u001b[38;5;28;01mraise\u001b[39;00m StdinNotImplementedError(msg)\n\u001b[1;32m-> 1262\u001b[0m \u001b[38;5;28;01mreturn\u001b[39;00m \u001b[38;5;28mself\u001b[39m\u001b[38;5;241m.\u001b[39m_input_request(\n\u001b[0;32m   1263\u001b[0m     \u001b[38;5;28mstr\u001b[39m(prompt),\n\u001b[0;32m   1264\u001b[0m     \u001b[38;5;28mself\u001b[39m\u001b[38;5;241m.\u001b[39m_parent_ident[\u001b[38;5;124m\"\u001b[39m\u001b[38;5;124mshell\u001b[39m\u001b[38;5;124m\"\u001b[39m],\n\u001b[0;32m   1265\u001b[0m     \u001b[38;5;28mself\u001b[39m\u001b[38;5;241m.\u001b[39mget_parent(\u001b[38;5;124m\"\u001b[39m\u001b[38;5;124mshell\u001b[39m\u001b[38;5;124m\"\u001b[39m),\n\u001b[0;32m   1266\u001b[0m     password\u001b[38;5;241m=\u001b[39m\u001b[38;5;28;01mFalse\u001b[39;00m,\n\u001b[0;32m   1267\u001b[0m )\n",
      "File \u001b[1;32mC:\\ProgramData\\anaconda3\\Lib\\site-packages\\ipykernel\\kernelbase.py:1305\u001b[0m, in \u001b[0;36mKernel._input_request\u001b[1;34m(self, prompt, ident, parent, password)\u001b[0m\n\u001b[0;32m   1302\u001b[0m \u001b[38;5;28;01mexcept\u001b[39;00m \u001b[38;5;167;01mKeyboardInterrupt\u001b[39;00m:\n\u001b[0;32m   1303\u001b[0m     \u001b[38;5;66;03m# re-raise KeyboardInterrupt, to truncate traceback\u001b[39;00m\n\u001b[0;32m   1304\u001b[0m     msg \u001b[38;5;241m=\u001b[39m \u001b[38;5;124m\"\u001b[39m\u001b[38;5;124mInterrupted by user\u001b[39m\u001b[38;5;124m\"\u001b[39m\n\u001b[1;32m-> 1305\u001b[0m     \u001b[38;5;28;01mraise\u001b[39;00m \u001b[38;5;167;01mKeyboardInterrupt\u001b[39;00m(msg) \u001b[38;5;28;01mfrom\u001b[39;00m \u001b[38;5;28;01mNone\u001b[39;00m\n\u001b[0;32m   1306\u001b[0m \u001b[38;5;28;01mexcept\u001b[39;00m \u001b[38;5;167;01mException\u001b[39;00m:\n\u001b[0;32m   1307\u001b[0m     \u001b[38;5;28mself\u001b[39m\u001b[38;5;241m.\u001b[39mlog\u001b[38;5;241m.\u001b[39mwarning(\u001b[38;5;124m\"\u001b[39m\u001b[38;5;124mInvalid Message:\u001b[39m\u001b[38;5;124m\"\u001b[39m, exc_info\u001b[38;5;241m=\u001b[39m\u001b[38;5;28;01mTrue\u001b[39;00m)\n",
      "\u001b[1;31mKeyboardInterrupt\u001b[0m: Interrupted by user"
     ]
    }
   ],
   "source": [
    "'''write a program to check whether the given number is a positive, negative or zero '''\n",
    "num=int(input(\"enter the number:\"))\n",
    "if num==0:\n",
    "    print(\"zero entered\")\n",
    "if num>0:\n",
    "    print(\"positive number\")\n",
    "else:\n",
    "    print(\"negative number\")"
   ]
  },
  {
   "cell_type": "code",
   "execution_count": 79,
   "id": "de192cf5-6b97-4b75-8168-4af5d24610b9",
   "metadata": {},
   "outputs": [
    {
     "ename": "SyntaxError",
     "evalue": "invalid syntax (3681766155.py, line 2)",
     "output_type": "error",
     "traceback": [
      "\u001b[1;36m  Cell \u001b[1;32mIn[79], line 2\u001b[1;36m\u001b[0m\n\u001b[1;33m    ch=input(\"enter the character:\")\u001b[0m\n\u001b[1;37m    ^\u001b[0m\n\u001b[1;31mSyntaxError\u001b[0m\u001b[1;31m:\u001b[0m invalid syntax\n"
     ]
    }
   ],
   "source": [
    "'''write a prgm to find the entered character is a vowel or consonent ,while user input could be either upper or lower case usng if-elif-else'''\\\n",
    "ch=input(\"enter the character:\")\n",
    "if ch==\"a\" or ch==\"e\" or ch==\"i\" or ch==\"o\" or ch==\"u\":\n",
    "    print(\"it is a vowel\",ch)\n",
    "elif ch==\"A\" or ch==\"E\" or ch==\"I\" or ch==\"O\" or ch==\"U\":\n",
    "    print(\"it is a vowel\",ch)\n",
    "else:\n",
    "    print(\"it is a consonent\")"
   ]
  },
  {
   "cell_type": "code",
   "execution_count": 97,
   "id": "995789be-66a7-4861-ae26-dc9fc500f085",
   "metadata": {},
   "outputs": [
    {
     "name": "stdin",
     "output_type": "stream",
     "text": [
      "enter the character: a\n"
     ]
    },
    {
     "name": "stdout",
     "output_type": "stream",
     "text": [
      "it is a vowel a\n"
     ]
    }
   ],
   "source": [
    "'''write a prgm to find the entered character is a vowel or consonent ,while user input could be either upper or lower case usng if-elif-else'''\n",
    "ch=input(\"enter the character:\")\n",
    "if ch==\"a\" or ch==\"e\" or ch==\"i\" or ch==\"o\" or ch==\"u\":\n",
    "    print(\"it is a vowel\",ch)\n",
    "elif ch==\"A\" or ch==\"E\" or ch==\"I\" or ch==\"O\" or ch==\"U\":\n",
    "    print(\"it is a vowel\",ch)\n",
    "else:\n",
    "    print(\"it is a consonent\")"
   ]
  },
  {
   "cell_type": "code",
   "execution_count": 105,
   "id": "f700ea05-e6d3-4a8c-813c-7e4fc86b3634",
   "metadata": {},
   "outputs": [
    {
     "name": "stdin",
     "output_type": "stream",
     "text": [
      "enter the value 3\n",
      "enter the value 4\n",
      "enter the operators +\n"
     ]
    },
    {
     "name": "stdout",
     "output_type": "stream",
     "text": [
      "result 7.0\n"
     ]
    }
   ],
   "source": [
    "'''create a simple calc bt using if-elif- to perform airthmetic operatuions +-/*by choice of user input '''\n",
    "a=float(input(\"enter the value\"))\n",
    "b=float(input(\"enter the value\"))\n",
    "op=input(\"enter the operators\")\n",
    "if op=='+':\n",
    "    print(\"result\",a+b)\n",
    "elif op=='-':\n",
    "    print(\"result\",a-b)\n",
    "elif op=='*':\n",
    "    print(\"result\",a*b)\n",
    "elif op=='/':\n",
    "    print(\"result\",a/b)\n",
    "else:\n",
    "    print(\"invalid operator\")\n",
    "    \n",
    "\n",
    "\n",
    "\n"
   ]
  },
  {
   "cell_type": "code",
   "execution_count": null,
   "id": "bbfcb18c-be54-4e04-9371-037fdcdb24bd",
   "metadata": {},
   "outputs": [],
   "source": []
  }
 ],
 "metadata": {
  "kernelspec": {
   "display_name": "Python 3 (ipykernel)",
   "language": "python",
   "name": "python3"
  },
  "language_info": {
   "codemirror_mode": {
    "name": "ipython",
    "version": 3
   },
   "file_extension": ".py",
   "mimetype": "text/x-python",
   "name": "python",
   "nbconvert_exporter": "python",
   "pygments_lexer": "ipython3",
   "version": "3.12.7"
  }
 },
 "nbformat": 4,
 "nbformat_minor": 5
}
